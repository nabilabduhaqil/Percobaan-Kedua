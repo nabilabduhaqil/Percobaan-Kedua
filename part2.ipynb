{
 "cells": [
  {
   "cell_type": "raw",
   "id": "7ff2c555-c5cd-4500-9a05-a9152bacc62a",
   "metadata": {},
   "source": [
    "ngakak = 'awok'\n",
    "ngakak_bet = ngakak * 100\n"
   ]
  },
  {
   "cell_type": "code",
   "execution_count": null,
   "id": "a05318ec-0a33-4395-b39a-a20133f554ee",
   "metadata": {},
   "outputs": [],
   "source": []
  }
 ],
 "metadata": {
  "kernelspec": {
   "display_name": "Python 3 (ipykernel)",
   "language": "python",
   "name": "python3"
  },
  "language_info": {
   "codemirror_mode": {
    "name": "ipython",
    "version": 3
   },
   "file_extension": ".py",
   "mimetype": "text/x-python",
   "name": "python",
   "nbconvert_exporter": "python",
   "pygments_lexer": "ipython3",
   "version": "3.10.9"
  }
 },
 "nbformat": 4,
 "nbformat_minor": 5
}
